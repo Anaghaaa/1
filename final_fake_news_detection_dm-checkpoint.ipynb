{
 "cells": [
  {
   "cell_type": "code",
   "execution_count": 1,
   "metadata": {},
   "outputs": [
    {
     "data": {
      "text/plain": [
       "'3.7.5'"
      ]
     },
     "execution_count": 1,
     "metadata": {},
     "output_type": "execute_result"
    }
   ],
   "source": [
    "# Settings for notebook\n",
    "from IPython.core.interactiveshell import InteractiveShell\n",
    "InteractiveShell.ast_node_interactivity = \"all\"\n",
    "# Show Python version\n",
    "import platform\n",
    "platform.python_version()"
   ]
  },
  {
   "cell_type": "code",
   "execution_count": 2,
   "metadata": {},
   "outputs": [],
   "source": [
    "try:\n",
    "    import scrapy\n",
    "except:\n",
    "    !pip install scrapy\n",
    "    import scrapy\n",
    "from scrapy.crawler import CrawlerProcess\n"
   ]
  },
  {
   "cell_type": "code",
   "execution_count": 3,
   "metadata": {},
   "outputs": [
    {
     "name": "stderr",
     "output_type": "stream",
     "text": [
      "c:\\users\\darshan\\appdata\\local\\programs\\python\\python37\\lib\\site-packages\\sklearn\\utils\\deprecation.py:143: FutureWarning: The sklearn.feature_extraction.stop_words module is  deprecated in version 0.22 and will be removed in version 0.24. The corresponding classes / functions should instead be imported from sklearn.feature_extraction.text. Anything that cannot be imported from sklearn.feature_extraction.text is now part of the private API.\n",
      "  warnings.warn(message, FutureWarning)\n"
     ]
    }
   ],
   "source": [
    "import pandas as pd\n",
    "import numpy as np\n",
    "from sklearn.model_selection import train_test_split\n",
    "from sklearn.feature_extraction.text import TfidfVectorizer, CountVectorizer\n",
    "import matplotlib.pyplot as plt\n",
    "import itertools\n",
    "from sklearn import svm\n",
    "from sklearn.naive_bayes import MultinomialNB\n",
    "from sklearn.ensemble import RandomForestClassifier, GradientBoostingClassifier\n",
    "from sklearn import metrics\n",
    "# import spacy\n",
    "from sklearn.feature_extraction.stop_words import ENGLISH_STOP_WORDS\n",
    "import string\n",
    "import re\n",
    "import nltk\n",
    "import collections\n",
    "from nltk.corpus import stopwords\n",
    "from sklearn.feature_extraction import DictVectorizer\n",
    "from sklearn.pipeline import Pipeline, FeatureUnion\n",
    "# from empath import Empath\n",
    "# from keras.preprocessing.text import Tokenizer\n",
    "# from keras.preprocessing.sequence import pad_sequences\n",
    "import pickle"
   ]
  },
  {
   "cell_type": "code",
   "execution_count": 4,
   "metadata": {},
   "outputs": [
    {
     "data": {
      "text/plain": [
       "Index(['URLs', 'Headline', 'Body', 'Label'], dtype='object')"
      ]
     },
     "execution_count": 4,
     "metadata": {},
     "output_type": "execute_result"
    },
    {
     "data": {
      "text/plain": [
       "REAL    2137\n",
       "FAKE    1872\n",
       "Name: Label, dtype: int64"
      ]
     },
     "execution_count": 4,
     "metadata": {},
     "output_type": "execute_result"
    }
   ],
   "source": [
    "df = pd.read_csv('C:/Users/Darshan/Desktop/data.csv')\n",
    "df.loc[df['Label']== 0, 'Label'] = 'REAL'\n",
    "df.loc[df['Label']== 1, 'Label'] = 'FAKE'\n",
    "df.columns\n",
    "df['Label'].value_counts()"
   ]
  },
  {
   "cell_type": "code",
   "execution_count": 5,
   "metadata": {},
   "outputs": [
    {
     "data": {
      "text/plain": [
       "Index(['Headline', 'Body', 'Label'], dtype='object')"
      ]
     },
     "execution_count": 5,
     "metadata": {},
     "output_type": "execute_result"
    }
   ],
   "source": [
    "df.drop(['URLs'], axis = 1, inplace = True)\n",
    "df.columns"
   ]
  },
  {
   "cell_type": "code",
   "execution_count": 6,
   "metadata": {},
   "outputs": [
    {
     "data": {
      "text/plain": [
       "Index(['uuid', 'ord_in_thread', 'author', 'published', 'title', 'text',\n",
       "       'language', 'crawled', 'site_url', 'country', 'domain_rank',\n",
       "       'thread_title', 'spam_score', 'main_img_url', 'replies_count',\n",
       "       'participants_count', 'likes', 'comments', 'shares', 'type'],\n",
       "      dtype='object')"
      ]
     },
     "execution_count": 6,
     "metadata": {},
     "output_type": "execute_result"
    },
    {
     "data": {
      "text/plain": [
       "bs            11492\n",
       "bias            443\n",
       "conspiracy      430\n",
       "hate            246\n",
       "satire          146\n",
       "state           121\n",
       "junksci         102\n",
       "fake             19\n",
       "Name: type, dtype: int64"
      ]
     },
     "execution_count": 6,
     "metadata": {},
     "output_type": "execute_result"
    }
   ],
   "source": [
    "df1 = pd.read_csv('C:/Users/Darshan/Desktop/fake.csv')\n",
    "df1.columns\n",
    "df1['type'].value_counts()\n",
    "df1 = df1.loc[df1['type']=='fake']\n",
    "df1.loc[df1['type']== 'fake', 'type'] = 'FAKE'"
   ]
  },
  {
   "cell_type": "code",
   "execution_count": 7,
   "metadata": {},
   "outputs": [
    {
     "data": {
      "text/plain": [
       "FAKE    19\n",
       "Name: Label, dtype: int64"
      ]
     },
     "execution_count": 7,
     "metadata": {},
     "output_type": "execute_result"
    }
   ],
   "source": [
    "df1 = df1[['title','text','type']]\n",
    "df1.columns = ['Headline', 'Body', 'Label']\n",
    "df1['Label'].value_counts()"
   ]
  },
  {
   "cell_type": "code",
   "execution_count": 8,
   "metadata": {},
   "outputs": [
    {
     "data": {
      "text/plain": [
       "Index(['Unnamed: 0', 'title', 'text', 'label'], dtype='object')"
      ]
     },
     "execution_count": 8,
     "metadata": {},
     "output_type": "execute_result"
    }
   ],
   "source": [
    "df2 = pd.read_csv('C:/Users/Darshan/Desktop/fake_or_real_news.csv')\n",
    "df2.columns"
   ]
  },
  {
   "cell_type": "code",
   "execution_count": 9,
   "metadata": {},
   "outputs": [
    {
     "data": {
      "text/plain": [
       "Index(['Headline', 'Body', 'Label'], dtype='object')"
      ]
     },
     "execution_count": 9,
     "metadata": {},
     "output_type": "execute_result"
    },
    {
     "data": {
      "text/plain": [
       "REAL    3171\n",
       "FAKE    3164\n",
       "Name: Label, dtype: int64"
      ]
     },
     "execution_count": 9,
     "metadata": {},
     "output_type": "execute_result"
    }
   ],
   "source": [
    "#Selecting few columns from the table and renaming the columns\n",
    "df2 = df2[['title','text','label']]\n",
    "df2.columns = ['Headline', 'Body', 'Label']\n",
    "df2.columns\n",
    "df2['Label'].value_counts()"
   ]
  },
  {
   "cell_type": "code",
   "execution_count": 10,
   "metadata": {},
   "outputs": [
    {
     "data": {
      "text/plain": [
       "Index(['id', 'title', 'author', 'text', 'label'], dtype='object')"
      ]
     },
     "execution_count": 10,
     "metadata": {},
     "output_type": "execute_result"
    }
   ],
   "source": [
    "df3 = pd.read_csv('C:/Users/Darshan/Desktop/train.csv')\n",
    "df3.columns"
   ]
  },
  {
   "cell_type": "code",
   "execution_count": 11,
   "metadata": {},
   "outputs": [
    {
     "data": {
      "text/plain": [
       "Index(['Headline', 'Body', 'Label'], dtype='object')"
      ]
     },
     "execution_count": 11,
     "metadata": {},
     "output_type": "execute_result"
    },
    {
     "data": {
      "text/plain": [
       "FAKE    10413\n",
       "REAL    10387\n",
       "Name: Label, dtype: int64"
      ]
     },
     "execution_count": 11,
     "metadata": {},
     "output_type": "execute_result"
    }
   ],
   "source": [
    "df3 = df3[['title','text','label']]\n",
    "df3.columns = ['Headline', 'Body', 'Label']\n",
    "df3.loc[df3['Label']== 0, 'Label'] = 'REAL'\n",
    "df3.loc[df3['Label']== 1, 'Label'] = 'FAKE'\n",
    "df3.columns\n",
    "df3['Label'].value_counts()"
   ]
  },
  {
   "cell_type": "code",
   "execution_count": 12,
   "metadata": {},
   "outputs": [],
   "source": [
    "df = df.append(df1, ignore_index = True)\n",
    "df = df.append(df2, ignore_index = True)\n",
    "df = df.append(df3, ignore_index = True)"
   ]
  },
  {
   "cell_type": "code",
   "execution_count": 13,
   "metadata": {},
   "outputs": [
    {
     "data": {
      "text/html": [
       "<div>\n",
       "<style scoped>\n",
       "    .dataframe tbody tr th:only-of-type {\n",
       "        vertical-align: middle;\n",
       "    }\n",
       "\n",
       "    .dataframe tbody tr th {\n",
       "        vertical-align: top;\n",
       "    }\n",
       "\n",
       "    .dataframe thead th {\n",
       "        text-align: right;\n",
       "    }\n",
       "</style>\n",
       "<table border=\"1\" class=\"dataframe\">\n",
       "  <thead>\n",
       "    <tr style=\"text-align: right;\">\n",
       "      <th></th>\n",
       "      <th>Headline</th>\n",
       "      <th>Body</th>\n",
       "      <th>Label</th>\n",
       "    </tr>\n",
       "  </thead>\n",
       "  <tbody>\n",
       "    <tr>\n",
       "      <th>0</th>\n",
       "      <td>Four ways Bob Corker skewered Donald Trump</td>\n",
       "      <td>Image copyright Getty Images\\nOn Sunday mornin...</td>\n",
       "      <td>FAKE</td>\n",
       "    </tr>\n",
       "    <tr>\n",
       "      <th>1</th>\n",
       "      <td>Linklater's war veteran comedy speaks to moder...</td>\n",
       "      <td>LONDON (Reuters) - “Last Flag Flying”, a comed...</td>\n",
       "      <td>FAKE</td>\n",
       "    </tr>\n",
       "    <tr>\n",
       "      <th>2</th>\n",
       "      <td>Trump’s Fight With Corker Jeopardizes His Legi...</td>\n",
       "      <td>The feud broke into public view last week when...</td>\n",
       "      <td>FAKE</td>\n",
       "    </tr>\n",
       "    <tr>\n",
       "      <th>3</th>\n",
       "      <td>Egypt's Cheiron wins tie-up with Pemex for Mex...</td>\n",
       "      <td>MEXICO CITY (Reuters) - Egypt’s Cheiron Holdin...</td>\n",
       "      <td>FAKE</td>\n",
       "    </tr>\n",
       "    <tr>\n",
       "      <th>4</th>\n",
       "      <td>Jason Aldean opens 'SNL' with Vegas tribute</td>\n",
       "      <td>Country singer Jason Aldean, who was performin...</td>\n",
       "      <td>FAKE</td>\n",
       "    </tr>\n",
       "    <tr>\n",
       "      <th>...</th>\n",
       "      <td>...</td>\n",
       "      <td>...</td>\n",
       "      <td>...</td>\n",
       "    </tr>\n",
       "    <tr>\n",
       "      <th>31157</th>\n",
       "      <td>Trump: Putin ’Very Smart’ to Not Retaliate ove...</td>\n",
       "      <td>Donald Trump took to Twitter Friday to praise ...</td>\n",
       "      <td>REAL</td>\n",
       "    </tr>\n",
       "    <tr>\n",
       "      <th>31158</th>\n",
       "      <td>Rapper T.I.: Trump a ’Poster Child For White S...</td>\n",
       "      <td>Rapper T. I. unloaded on black celebrities who...</td>\n",
       "      <td>REAL</td>\n",
       "    </tr>\n",
       "    <tr>\n",
       "      <th>31159</th>\n",
       "      <td>N.F.L. Playoffs: Schedule, Matchups and Odds -...</td>\n",
       "      <td>When the Green Bay Packers lost to the Washing...</td>\n",
       "      <td>REAL</td>\n",
       "    </tr>\n",
       "    <tr>\n",
       "      <th>31160</th>\n",
       "      <td>Macy’s Is Said to Receive Takeover Approach by...</td>\n",
       "      <td>The Macy’s of today grew from the union of sev...</td>\n",
       "      <td>REAL</td>\n",
       "    </tr>\n",
       "    <tr>\n",
       "      <th>31162</th>\n",
       "      <td>What Keeps the F-35 Alive</td>\n",
       "      <td>David Swanson is an author, activist, journa...</td>\n",
       "      <td>FAKE</td>\n",
       "    </tr>\n",
       "  </tbody>\n",
       "</table>\n",
       "<p>27865 rows × 3 columns</p>\n",
       "</div>"
      ],
      "text/plain": [
       "                                                Headline  \\\n",
       "0             Four ways Bob Corker skewered Donald Trump   \n",
       "1      Linklater's war veteran comedy speaks to moder...   \n",
       "2      Trump’s Fight With Corker Jeopardizes His Legi...   \n",
       "3      Egypt's Cheiron wins tie-up with Pemex for Mex...   \n",
       "4            Jason Aldean opens 'SNL' with Vegas tribute   \n",
       "...                                                  ...   \n",
       "31157  Trump: Putin ’Very Smart’ to Not Retaliate ove...   \n",
       "31158  Rapper T.I.: Trump a ’Poster Child For White S...   \n",
       "31159  N.F.L. Playoffs: Schedule, Matchups and Odds -...   \n",
       "31160  Macy’s Is Said to Receive Takeover Approach by...   \n",
       "31162                          What Keeps the F-35 Alive   \n",
       "\n",
       "                                                    Body Label  \n",
       "0      Image copyright Getty Images\\nOn Sunday mornin...  FAKE  \n",
       "1      LONDON (Reuters) - “Last Flag Flying”, a comed...  FAKE  \n",
       "2      The feud broke into public view last week when...  FAKE  \n",
       "3      MEXICO CITY (Reuters) - Egypt’s Cheiron Holdin...  FAKE  \n",
       "4      Country singer Jason Aldean, who was performin...  FAKE  \n",
       "...                                                  ...   ...  \n",
       "31157  Donald Trump took to Twitter Friday to praise ...  REAL  \n",
       "31158  Rapper T. I. unloaded on black celebrities who...  REAL  \n",
       "31159  When the Green Bay Packers lost to the Washing...  REAL  \n",
       "31160  The Macy’s of today grew from the union of sev...  REAL  \n",
       "31162    David Swanson is an author, activist, journa...  FAKE  \n",
       "\n",
       "[27865 rows x 3 columns]"
      ]
     },
     "execution_count": 13,
     "metadata": {},
     "output_type": "execute_result"
    }
   ],
   "source": [
    "df = df.drop_duplicates()\n",
    "\n",
    "# df.iloc[3647]\n",
    "# print(df['Headline'][3647])\n",
    "# print(len(df['Body'][3647]))\n",
    "#df = df.dropna(how='any',axis=0)\n",
    "cnt = 0\n",
    "ind = []\n",
    "for art in df['Body']:\n",
    "    #print(type(art))\n",
    "    if len(str(art)) < 10:\n",
    "        ind.append(cnt)\n",
    "    cnt+=1\n",
    "df = df.drop(df.index[ind])\n",
    "        \n",
    "\n",
    "df\n",
    "# print(df['Headline'][3647])\n",
    "# print(len(df['Body'][3647]))"
   ]
  },
  {
   "cell_type": "code",
   "execution_count": 14,
   "metadata": {},
   "outputs": [
    {
     "data": {
      "text/plain": [
       "REAL    15343\n",
       "FAKE    12522\n",
       "Name: Label, dtype: int64"
      ]
     },
     "execution_count": 14,
     "metadata": {},
     "output_type": "execute_result"
    }
   ],
   "source": [
    "\n",
    "\n",
    "df['Label'].value_counts()\n",
    "\n"
   ]
  },
  {
   "cell_type": "code",
   "execution_count": 15,
   "metadata": {},
   "outputs": [
    {
     "data": {
      "text/plain": [
       "<matplotlib.axes._subplots.AxesSubplot at 0x182c2845808>"
      ]
     },
     "execution_count": 15,
     "metadata": {},
     "output_type": "execute_result"
    },
    {
     "data": {
      "image/png": "[encoded data removed]",
      "text/plain": [
       "<Figure size 432x288 with 1 Axes>"
      ]
     },
     "metadata": {
      "needs_background": "light"
     },
     "output_type": "display_data"
    }
   ],
   "source": [
    "df['Label'].value_counts().plot(kind = 'bar')"
   ]
  },
  {
   "cell_type": "code",
   "execution_count": 16,
   "metadata": {},
   "outputs": [
    {
     "name": "stdout",
     "output_type": "stream",
     "text": [
      "language\n",
      "arabic           22\n",
      "chinese           1\n",
      "dutch             3\n",
      "english       12357\n",
      "finnish           1\n",
      "french           38\n",
      "german          111\n",
      "greek             4\n",
      "ignore            7\n",
      "italian           9\n",
      "norwegian         3\n",
      "polish            1\n",
      "portuguese       11\n",
      "russian         203\n",
      "spanish         172\n",
      "turkish          10\n",
      "Name: text, dtype: int64\n"
     ]
    },
    {
     "name": "stderr",
     "output_type": "stream",
     "text": [
      "c:\\users\\darshan\\appdata\\local\\programs\\python\\python37\\lib\\site-packages\\ipykernel_launcher.py:5: FutureWarning: Sorting because non-concatenation axis is not aligned. A future version\n",
      "of pandas will change to not sort by default.\n",
      "\n",
      "To accept the future behavior, pass 'sort=False'.\n",
      "\n",
      "To retain the current behavior and silence the warning, pass 'sort=True'.\n",
      "\n",
      "  \"\"\"\n"
     ]
    },
    {
     "data": {
      "text/plain": [
       "<matplotlib.axes._subplots.AxesSubplot at 0x182c37fd588>"
      ]
     },
     "execution_count": 16,
     "metadata": {},
     "output_type": "execute_result"
    },
    {
     "data": {
      "image/png": "[encoded data removed]",
      "text/plain": [
       "<Figure size 432x288 with 1 Axes>"
      ]
     },
     "metadata": {
      "needs_background": "light"
     },
     "output_type": "display_data"
    },
    {
     "data": {
      "text/html": [
       "<div>\n",
       "<style scoped>\n",
       "    .dataframe tbody tr th:only-of-type {\n",
       "        vertical-align: middle;\n",
       "    }\n",
       "\n",
       "    .dataframe tbody tr th {\n",
       "        vertical-align: top;\n",
       "    }\n",
       "\n",
       "    .dataframe thead th {\n",
       "        text-align: right;\n",
       "    }\n",
       "</style>\n",
       "<table border=\"1\" class=\"dataframe\">\n",
       "  <thead>\n",
       "    <tr style=\"text-align: right;\">\n",
       "      <th></th>\n",
       "      <th>Body</th>\n",
       "      <th>Headline</th>\n",
       "      <th>Label</th>\n",
       "      <th>URLs</th>\n",
       "      <th>author</th>\n",
       "      <th>comments</th>\n",
       "      <th>country</th>\n",
       "      <th>crawled</th>\n",
       "      <th>domain_rank</th>\n",
       "      <th>language</th>\n",
       "      <th>...</th>\n",
       "      <th>replies_count</th>\n",
       "      <th>shares</th>\n",
       "      <th>site_url</th>\n",
       "      <th>spam_score</th>\n",
       "      <th>target</th>\n",
       "      <th>text</th>\n",
       "      <th>thread_title</th>\n",
       "      <th>title</th>\n",
       "      <th>type</th>\n",
       "      <th>uuid</th>\n",
       "    </tr>\n",
       "  </thead>\n",
       "  <tbody>\n",
       "    <tr>\n",
       "      <th>8780</th>\n",
       "      <td>NaN</td>\n",
       "      <td>NaN</td>\n",
       "      <td>NaN</td>\n",
       "      <td>NaN</td>\n",
       "      <td>The Doc</td>\n",
       "      <td>0.0</td>\n",
       "      <td>US</td>\n",
       "      <td>2016-11-04T02:07:01.413+02:00</td>\n",
       "      <td>62759.0</td>\n",
       "      <td>english</td>\n",
       "      <td>...</td>\n",
       "      <td>0.0</td>\n",
       "      <td>0.0</td>\n",
       "      <td>silverdoctors.com</td>\n",
       "      <td>0.000</td>\n",
       "      <td>fake</td>\n",
       "      <td>Tweet Home » Silver » Silver News » Silver Sig...</td>\n",
       "      <td>Silver Signals The Flight To Real Safety Is On...</td>\n",
       "      <td>Silver Signals The Flight To Real Safety Is On...</td>\n",
       "      <td>bs</td>\n",
       "      <td>9b44c58dad0483092a0d8f7e18963069ac084c5f</td>\n",
       "    </tr>\n",
       "    <tr>\n",
       "      <th>15452</th>\n",
       "      <td>CAIRO (Reuters) - Egypt has extended a state o...</td>\n",
       "      <td>Egypt extends state of emergency for three mon...</td>\n",
       "      <td>1.0</td>\n",
       "      <td>https://www.reuters.com/article/us-egypt-viole...</td>\n",
       "      <td>NaN</td>\n",
       "      <td>NaN</td>\n",
       "      <td>NaN</td>\n",
       "      <td>NaN</td>\n",
       "      <td>NaN</td>\n",
       "      <td>NaN</td>\n",
       "      <td>...</td>\n",
       "      <td>NaN</td>\n",
       "      <td>NaN</td>\n",
       "      <td>NaN</td>\n",
       "      <td>NaN</td>\n",
       "      <td>true</td>\n",
       "      <td>NaN</td>\n",
       "      <td>NaN</td>\n",
       "      <td>NaN</td>\n",
       "      <td>NaN</td>\n",
       "      <td>NaN</td>\n",
       "    </tr>\n",
       "    <tr>\n",
       "      <th>9817</th>\n",
       "      <td>NaN</td>\n",
       "      <td>NaN</td>\n",
       "      <td>NaN</td>\n",
       "      <td>NaN</td>\n",
       "      <td>NaN</td>\n",
       "      <td>0.0</td>\n",
       "      <td>US</td>\n",
       "      <td>2016-11-09T01:26:51.813+02:00</td>\n",
       "      <td>NaN</td>\n",
       "      <td>english</td>\n",
       "      <td>...</td>\n",
       "      <td>0.0</td>\n",
       "      <td>0.0</td>\n",
       "      <td>thelastlineofdefense.org</td>\n",
       "      <td>0.001</td>\n",
       "      <td>fake</td>\n",
       "      <td>Humor Home Trump Van Full Of Illegals Shows Up...</td>\n",
       "      <td>Van Full Of Illegals Shows Up To Vote Clinton ...</td>\n",
       "      <td>Van Full Of Illegals Shows Up To Vote Clinton ...</td>\n",
       "      <td>fake</td>\n",
       "      <td>5c22cf9c0c1583399f4972bea866c612b41bbc49</td>\n",
       "    </tr>\n",
       "    <tr>\n",
       "      <th>925</th>\n",
       "      <td>NaN</td>\n",
       "      <td>NaN</td>\n",
       "      <td>NaN</td>\n",
       "      <td>NaN</td>\n",
       "      <td>NaN</td>\n",
       "      <td>0.0</td>\n",
       "      <td>DE</td>\n",
       "      <td>2016-10-27T00:19:59.800+03:00</td>\n",
       "      <td>NaN</td>\n",
       "      <td>english</td>\n",
       "      <td>...</td>\n",
       "      <td>0.0</td>\n",
       "      <td>0.0</td>\n",
       "      <td>awdnews.com</td>\n",
       "      <td>0.000</td>\n",
       "      <td>fake</td>\n",
       "      <td>Email Britain has been providing military trai...</td>\n",
       "      <td>UK training Saudi pilots amid reports of war c...</td>\n",
       "      <td>UK training Saudi pilots amid reports of war c...</td>\n",
       "      <td>conspiracy</td>\n",
       "      <td>889964ab0dcc4d159a9386d366f9cccd2e767e37</td>\n",
       "    </tr>\n",
       "    <tr>\n",
       "      <th>15283</th>\n",
       "      <td>Story highlights Police: Girl, 10, was raped b...</td>\n",
       "      <td>DNA tests show second uncle impregnated Indian...</td>\n",
       "      <td>1.0</td>\n",
       "      <td>http://www.cnn.com/2017/10/10/asia/dna-child-r...</td>\n",
       "      <td>NaN</td>\n",
       "      <td>NaN</td>\n",
       "      <td>NaN</td>\n",
       "      <td>NaN</td>\n",
       "      <td>NaN</td>\n",
       "      <td>NaN</td>\n",
       "      <td>...</td>\n",
       "      <td>NaN</td>\n",
       "      <td>NaN</td>\n",
       "      <td>NaN</td>\n",
       "      <td>NaN</td>\n",
       "      <td>true</td>\n",
       "      <td>NaN</td>\n",
       "      <td>NaN</td>\n",
       "      <td>NaN</td>\n",
       "      <td>NaN</td>\n",
       "      <td>NaN</td>\n",
       "    </tr>\n",
       "  </tbody>\n",
       "</table>\n",
       "<p>5 rows × 25 columns</p>\n",
       "</div>"
      ],
      "text/plain": [
       "                                                    Body  \\\n",
       "8780                                                 NaN   \n",
       "15452  CAIRO (Reuters) - Egypt has extended a state o...   \n",
       "9817                                                 NaN   \n",
       "925                                                  NaN   \n",
       "15283  Story highlights Police: Girl, 10, was raped b...   \n",
       "\n",
       "                                                Headline  Label  \\\n",
       "8780                                                 NaN    NaN   \n",
       "15452  Egypt extends state of emergency for three mon...    1.0   \n",
       "9817                                                 NaN    NaN   \n",
       "925                                                  NaN    NaN   \n",
       "15283  DNA tests show second uncle impregnated Indian...    1.0   \n",
       "\n",
       "                                                    URLs   author  comments  \\\n",
       "8780                                                 NaN  The Doc       0.0   \n",
       "15452  https://www.reuters.com/article/us-egypt-viole...      NaN       NaN   \n",
       "9817                                                 NaN      NaN       0.0   \n",
       "925                                                  NaN      NaN       0.0   \n",
       "15283  http://www.cnn.com/2017/10/10/asia/dna-child-r...      NaN       NaN   \n",
       "\n",
       "      country                        crawled  domain_rank language  ...  \\\n",
       "8780       US  2016-11-04T02:07:01.413+02:00      62759.0  english  ...   \n",
       "15452     NaN                            NaN          NaN      NaN  ...   \n",
       "9817       US  2016-11-09T01:26:51.813+02:00          NaN  english  ...   \n",
       "925        DE  2016-10-27T00:19:59.800+03:00          NaN  english  ...   \n",
       "15283     NaN                            NaN          NaN      NaN  ...   \n",
       "\n",
       "       replies_count shares                  site_url  spam_score target  \\\n",
       "8780             0.0    0.0         silverdoctors.com       0.000   fake   \n",
       "15452            NaN    NaN                       NaN         NaN   true   \n",
       "9817             0.0    0.0  thelastlineofdefense.org       0.001   fake   \n",
       "925              0.0    0.0               awdnews.com       0.000   fake   \n",
       "15283            NaN    NaN                       NaN         NaN   true   \n",
       "\n",
       "                                                    text  \\\n",
       "8780   Tweet Home » Silver » Silver News » Silver Sig...   \n",
       "15452                                                NaN   \n",
       "9817   Humor Home Trump Van Full Of Illegals Shows Up...   \n",
       "925    Email Britain has been providing military trai...   \n",
       "15283                                                NaN   \n",
       "\n",
       "                                            thread_title  \\\n",
       "8780   Silver Signals The Flight To Real Safety Is On...   \n",
       "15452                                                NaN   \n",
       "9817   Van Full Of Illegals Shows Up To Vote Clinton ...   \n",
       "925    UK training Saudi pilots amid reports of war c...   \n",
       "15283                                                NaN   \n",
       "\n",
       "                                                   title        type  \\\n",
       "8780   Silver Signals The Flight To Real Safety Is On...          bs   \n",
       "15452                                                NaN         NaN   \n",
       "9817   Van Full Of Illegals Shows Up To Vote Clinton ...        fake   \n",
       "925    UK training Saudi pilots amid reports of war c...  conspiracy   \n",
       "15283                                                NaN         NaN   \n",
       "\n",
       "                                           uuid  \n",
       "8780   9b44c58dad0483092a0d8f7e18963069ac084c5f  \n",
       "15452                                       NaN  \n",
       "9817   5c22cf9c0c1583399f4972bea866c612b41bbc49  \n",
       "925    889964ab0dcc4d159a9386d366f9cccd2e767e37  \n",
       "15283                                       NaN  \n",
       "\n",
       "[5 rows x 25 columns]"
      ]
     },
     "execution_count": 16,
     "metadata": {},
     "output_type": "execute_result"
    }
   ],
   "source": [
    "fake = pd.read_csv(\"C:/Users/Darshan/Desktop/fake.csv\")\n",
    "true = pd.read_csv(\"C:/Users/Darshan/Desktop/data.csv\")\n",
    "fake['target'] = 'fake'\n",
    "true['target'] = 'true'\n",
    "data = pd.concat([fake, true]).reset_index(drop = True)\n",
    "from sklearn.utils import shuffle\n",
    "data = shuffle(data)\n",
    "print(data.groupby(['language'])['text'].count())\n",
    "data.groupby(['language'])['text'].count().plot(kind=\"bar\")\n",
    "plt.show()\n",
    "data.head()"
   ]
  },
  {
   "cell_type": "code",
   "execution_count": 17,
   "metadata": {},
   "outputs": [
    {
     "data": {
      "text/plain": [
       "count    27865.000000\n",
       "mean        69.775381\n",
       "std         24.885773\n",
       "min          1.000000\n",
       "25%         55.000000\n",
       "50%         70.000000\n",
       "75%         85.000000\n",
       "max        653.000000\n",
       "Name: headline_length, dtype: float64"
      ]
     },
     "execution_count": 17,
     "metadata": {},
     "output_type": "execute_result"
    }
   ],
   "source": [
    "df['headline_length'] = [len(str(a)) for a in df['Headline']]\n",
    "df['headline_length'].describe()"
   ]
  },
  {
   "cell_type": "code",
   "execution_count": 18,
   "metadata": {},
   "outputs": [
    {
     "data": {
      "text/plain": [
       "count     27865.000000\n",
       "mean       4429.890903\n",
       "std        4854.862554\n",
       "min          10.000000\n",
       "25%        1589.000000\n",
       "50%        3348.000000\n",
       "75%        6106.000000\n",
       "max      142961.000000\n",
       "Name: body_length, dtype: float64"
      ]
     },
     "execution_count": 18,
     "metadata": {},
     "output_type": "execute_result"
    }
   ],
   "source": [
    "\n",
    "\n",
    "df['body_length'] = [len(a) for a in df['Body']]\n",
    "df['body_length'].describe()\n",
    "\n"
   ]
  },
  {
   "cell_type": "code",
   "execution_count": 19,
   "metadata": {},
   "outputs": [
    {
     "data": {
      "text/html": [
       "<div>\n",
       "<style scoped>\n",
       "    .dataframe tbody tr th:only-of-type {\n",
       "        vertical-align: middle;\n",
       "    }\n",
       "\n",
       "    .dataframe tbody tr th {\n",
       "        vertical-align: top;\n",
       "    }\n",
       "\n",
       "    .dataframe thead th {\n",
       "        text-align: right;\n",
       "    }\n",
       "</style>\n",
       "<table border=\"1\" class=\"dataframe\">\n",
       "  <thead>\n",
       "    <tr style=\"text-align: right;\">\n",
       "      <th></th>\n",
       "      <th>headline_length</th>\n",
       "      <th>body_length</th>\n",
       "    </tr>\n",
       "  </thead>\n",
       "  <tbody>\n",
       "    <tr>\n",
       "      <th>count</th>\n",
       "      <td>27865.000000</td>\n",
       "      <td>27865.000000</td>\n",
       "    </tr>\n",
       "    <tr>\n",
       "      <th>mean</th>\n",
       "      <td>69.775381</td>\n",
       "      <td>4429.890903</td>\n",
       "    </tr>\n",
       "    <tr>\n",
       "      <th>std</th>\n",
       "      <td>24.885773</td>\n",
       "      <td>4854.862554</td>\n",
       "    </tr>\n",
       "    <tr>\n",
       "      <th>min</th>\n",
       "      <td>1.000000</td>\n",
       "      <td>10.000000</td>\n",
       "    </tr>\n",
       "    <tr>\n",
       "      <th>25%</th>\n",
       "      <td>55.000000</td>\n",
       "      <td>1589.000000</td>\n",
       "    </tr>\n",
       "    <tr>\n",
       "      <th>50%</th>\n",
       "      <td>70.000000</td>\n",
       "      <td>3348.000000</td>\n",
       "    </tr>\n",
       "    <tr>\n",
       "      <th>75%</th>\n",
       "      <td>85.000000</td>\n",
       "      <td>6106.000000</td>\n",
       "    </tr>\n",
       "    <tr>\n",
       "      <th>max</th>\n",
       "      <td>653.000000</td>\n",
       "      <td>142961.000000</td>\n",
       "    </tr>\n",
       "  </tbody>\n",
       "</table>\n",
       "</div>"
      ],
      "text/plain": [
       "       headline_length    body_length\n",
       "count     27865.000000   27865.000000\n",
       "mean         69.775381    4429.890903\n",
       "std          24.885773    4854.862554\n",
       "min           1.000000      10.000000\n",
       "25%          55.000000    1589.000000\n",
       "50%          70.000000    3348.000000\n",
       "75%          85.000000    6106.000000\n",
       "max         653.000000  142961.000000"
      ]
     },
     "execution_count": 19,
     "metadata": {},
     "output_type": "execute_result"
    }
   ],
   "source": [
    "df.describe()"
   ]
  },
  {
   "cell_type": "code",
   "execution_count": 20,
   "metadata": {},
   "outputs": [
    {
     "data": {
      "text/plain": [
       "27175    Comment on Predetermined vote counts show Nov....\n",
       "7890     Democratic debate: Is Clinton or Sanders the r...\n",
       "5623     Republican convention speakers: Ivanka, NewtTh...\n",
       "6509     Dilbert Creator Explains “How Do I Know The Em...\n",
       "20601    In a Stand-Up Act, Leslie Jones Finds the Humo...\n",
       "                               ...                        \n",
       "9435     Donald Trump and the $12.7 million Ukraine con...\n",
       "7860     DNC To Sue Trump For Telling Truth: Trump Admi...\n",
       "3829     What Happens To The Media’s \"Stale\" News?By Ca...\n",
       "20021    Scandalous Video Footage From Anonymous Expose...\n",
       "21718    ¡Directores de BCRP ilegalmente designados!Pág...\n",
       "Name: Text, Length: 18669, dtype: object"
      ]
     },
     "execution_count": 20,
     "metadata": {},
     "output_type": "execute_result"
    }
   ],
   "source": [
    "df[\"Text\"] = df[\"Headline\"].map(str) + df[\"Body\"]\n",
    "y = df.Label\n",
    "y = y.astype('str')\n",
    "X_train, X_test, Y_train, Y_test = train_test_split(df['Text'],y, test_size=0.33)\n",
    "X_train"
   ]
  },
  {
   "cell_type": "code",
   "execution_count": 21,
   "metadata": {},
   "outputs": [],
   "source": [
    "tfidf_vectorizer = TfidfVectorizer(stop_words='english', ngram_range = (2,2)) \n",
    "\n",
    "# Fit and transform the training data \n",
    "tfidf1_train = tfidf_vectorizer.fit_transform(X_train.astype('str')) \n",
    "\n",
    "# Transform the test set \n",
    "tfidf1_test = tfidf_vectorizer.transform(X_test.astype('str'))\n",
    "\n",
    "pickle.dump(tfidf1_train, open(\"tfidf1_train.pickle\", \"wb\"))\n",
    "\n",
    "pickle.dump(tfidf1_test, open(\"tfidf1_test.pickle\", \"wb\"))"
   ]
  },
  {
   "cell_type": "code",
   "execution_count": 22,
   "metadata": {},
   "outputs": [
    {
     "data": {
      "text/plain": [
       "<18669x4014360 sparse matrix of type '<class 'numpy.float64'>'\n",
       "\twith 6775236 stored elements in Compressed Sparse Row format>"
      ]
     },
     "execution_count": 22,
     "metadata": {},
     "output_type": "execute_result"
    }
   ],
   "source": [
    "\n",
    "\n",
    "tfidf1_train\n",
    "\n"
   ]
  },
  {
   "cell_type": "code",
   "execution_count": 23,
   "metadata": {},
   "outputs": [],
   "source": [
    "def plot_confusion_matrix(cm, classes,\n",
    "                          normalize=False,\n",
    "                          title='Confusion matrix',\n",
    "                          cmap=plt.cm.Blues):\n",
    "    plt.imshow(cm, interpolation='nearest', cmap=cmap)\n",
    "    plt.title(title)\n",
    "    plt.colorbar()\n",
    "    tick_marks = np.arange(len(classes))\n",
    "    plt.xticks(tick_marks, classes, rotation=45)\n",
    "    plt.yticks(tick_marks, classes)\n",
    "\n",
    "    if normalize:\n",
    "        cm = cm.astype('float') / cm.sum(axis=1)[:, np.newaxis]\n",
    "        print(\"Normalized confusion matrix\")\n",
    "    else:\n",
    "        print('Confusion matrix')\n",
    "\n",
    "    thresh = cm.max() / 2.\n",
    "    for i, j in itertools.product(range(cm.shape[0]), range(cm.shape[1])):\n",
    "        plt.text(j, i, cm[i, j],\n",
    "                 horizontalalignment=\"center\",\n",
    "                 color=\"white\" if cm[i, j] > thresh else \"black\")\n",
    "\n",
    "    plt.tight_layout()\n",
    "    plt.ylabel('True label')\n",
    "    plt.xlabel('Predicted label')\n",
    "    plt.show()\n"
   ]
  },
  {
   "cell_type": "code",
   "execution_count": 24,
   "metadata": {},
   "outputs": [
    {
     "data": {
      "text/plain": [
       "MultinomialNB()"
      ]
     },
     "execution_count": 24,
     "metadata": {},
     "output_type": "execute_result"
    },
    {
     "name": "stdout",
     "output_type": "stream",
     "text": [
      "Precision: 0.758\n",
      "F-Measure: 0.861\n",
      "Accuracy : 0.824\n"
     ]
    }
   ],
   "source": [
    "clf = MultinomialNB()\n",
    "clf.fit(tfidf1_train, Y_train)\n",
    "pickle.dump(clf, open('tfidf_nb', 'wb'))\n",
    "pred = clf.predict(tfidf1_test)\n",
    "score = metrics.accuracy_score(Y_test, pred)\n",
    "precision = metrics.precision_score(Y_test, pred,average=\"binary\", pos_label=\"REAL\")\n",
    "f1 = metrics.f1_score(pred,Y_test,average=\"binary\",pos_label=\"REAL\")\n",
    "print(\"Precision: %.3f\" % precision)\n",
    "print('F-Measure: %.3f' % f1)\n",
    "print(\"Accuracy : %0.3f\" % score)"
   ]
  },
  {
   "cell_type": "code",
   "execution_count": 25,
   "metadata": {},
   "outputs": [
    {
     "name": "stdout",
     "output_type": "stream",
     "text": [
      "Confusion matrix\n"
     ]
    },
    {
     "data": {
      "image/png": "[encoded data removed]",
      "text/plain": [
       "<Figure size 432x288 with 2 Axes>"
      ]
     },
     "metadata": {
      "needs_background": "light"
     },
     "output_type": "display_data"
    }
   ],
   "source": [
    "cm = metrics.confusion_matrix(Y_test, pred, labels=['FAKE', 'REAL'])\n",
    "plot_confusion_matrix(cm, classes=['FAKE', 'REAL'])"
   ]
  },
  {
   "cell_type": "code",
   "execution_count": 32,
   "metadata": {},
   "outputs": [
    {
     "data": {
      "text/plain": [
       "RandomForestClassifier()"
      ]
     },
     "execution_count": 32,
     "metadata": {},
     "output_type": "execute_result"
    },
    {
     "name": "stdout",
     "output_type": "stream",
     "text": [
      "Precision: 0.916\n",
      "F-Measure: 0.917\n",
      "Accuracy : 0.909\n"
     ]
    }
   ],
   "source": [
    "\n",
    "clf = RandomForestClassifier()\n",
    "clf.fit(tfidf1_train, Y_train)\n",
    "pickle.dump(clf, open('tfidf_rf', 'wb'))\n",
    "pred = clf.predict(tfidf1_test)\n",
    "score = metrics.accuracy_score(Y_test, pred)\n",
    "precision = metrics.precision_score(Y_test, pred,average=\"binary\", pos_label=\"REAL\")\n",
    "f1 = metrics.f1_score(Y_test, pred,average=\"binary\", pos_label=\"REAL\")\n",
    "print(\"Precision: %.3f\" % precision)\n",
    "print('F-Measure: %.3f' % f1)\n",
    "print(\"Accuracy : %0.3f\" % score)\n",
    "\n"
   ]
  },
  {
   "cell_type": "code",
   "execution_count": 34,
   "metadata": {},
   "outputs": [
    {
     "name": "stdout",
     "output_type": "stream",
     "text": [
      "Confusion matrix\n"
     ]
    },
    {
     "data": {
      "image/png": "[encoded data removed]",
      "text/plain": [
       "<Figure size 432x288 with 2 Axes>"
      ]
     },
     "metadata": {
      "needs_background": "light"
     },
     "output_type": "display_data"
    }
   ],
   "source": [
    "cm = metrics.confusion_matrix(Y_test, pred, labels=['FAKE', 'REAL'])\n",
    "plot_confusion_matrix(cm, classes=['FAKE', 'REAL'])"
   ]
  },
  {
   "cell_type": "code",
   "execution_count": 36,
   "metadata": {},
   "outputs": [
    {
     "data": {
      "text/plain": [
       "GradientBoostingClassifier()"
      ]
     },
     "execution_count": 36,
     "metadata": {},
     "output_type": "execute_result"
    },
    {
     "name": "stdout",
     "output_type": "stream",
     "text": [
      "Precision: 0.910\n",
      "F-Measure: 0.855\n",
      "Accuracy : 0.850\n"
     ]
    }
   ],
   "source": [
    "clf = GradientBoostingClassifier()\n",
    "clf.fit(tfidf1_train, Y_train)\n",
    "pickle.dump(clf, open('tfidf_gb', 'wb'))\n",
    "model = pickle.load(open('tfidf_gb', 'rb'))\n",
    "pred = clf.predict(tfidf1_test)\n",
    "score = metrics.accuracy_score(Y_test, pred)\n",
    "precision = metrics.precision_score(Y_test, pred,average=\"binary\", pos_label=\"REAL\")\n",
    "f1 = metrics.f1_score(Y_test, pred,average=\"binary\", pos_label=\"REAL\")\n",
    "print(\"Precision: %.3f\" % precision)\n",
    "print('F-Measure: %.3f' % f1)\n",
    "print(\"Accuracy : %.3f\" % score)"
   ]
  },
  {
   "cell_type": "code",
   "execution_count": 35,
   "metadata": {},
   "outputs": [
    {
     "name": "stdout",
     "output_type": "stream",
     "text": [
      "Confusion matrix\n"
     ]
    },
    {
     "data": {
      "image/png": "[encoded data removed]",
      "text/plain": [
       "<Figure size 432x288 with 2 Axes>"
      ]
     },
     "metadata": {
      "needs_background": "light"
     },
     "output_type": "display_data"
    }
   ],
   "source": [
    "cm = metrics.confusion_matrix(Y_test, pred, labels=['FAKE', 'REAL'])\n",
    "plot_confusion_matrix(cm, classes=['FAKE', 'REAL'])"
   ]
  },
  {
   "cell_type": "code",
   "execution_count": null,
   "metadata": {},
   "outputs": [],
   "source": []
  }
 ],
 "metadata": {
  "kernelspec": {
   "display_name": "Python 3",
   "language": "python",
   "name": "python3"
  },
  "language_info": {
   "codemirror_mode": {
    "name": "ipython",
    "version": 3
   },
   "file_extension": ".py",
   "mimetype": "text/x-python",
   "name": "python",
   "nbconvert_exporter": "python",
   "pygments_lexer": "ipython3",
   "version": "3.7.5"
  }
 },
 "nbformat": 4,
 "nbformat_minor": 2
}
